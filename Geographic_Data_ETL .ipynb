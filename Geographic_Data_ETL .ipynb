{
 "cells": [
  {
   "cell_type": "code",
   "execution_count": 1,
   "id": "1d1103fb",
   "metadata": {},
   "outputs": [],
   "source": [
    "import pandas as pd\n",
    "from pathlib import Path\n",
    "import numpy as np"
   ]
  },
  {
   "cell_type": "code",
   "execution_count": 2,
   "id": "2288a7b6",
   "metadata": {},
   "outputs": [],
   "source": [
    "# Load the data\n",
    "file_path = Path('Resources/CAEMP25N_BEA.csv')\n",
    "df = pd.read_csv(file_path)"
   ]
  },
  {
   "cell_type": "code",
   "execution_count": 3,
   "id": "4b681f18",
   "metadata": {},
   "outputs": [
    {
     "data": {
      "text/html": [
       "<div>\n",
       "<style scoped>\n",
       "    .dataframe tbody tr th:only-of-type {\n",
       "        vertical-align: middle;\n",
       "    }\n",
       "\n",
       "    .dataframe tbody tr th {\n",
       "        vertical-align: top;\n",
       "    }\n",
       "\n",
       "    .dataframe thead th {\n",
       "        text-align: right;\n",
       "    }\n",
       "</style>\n",
       "<table border=\"1\" class=\"dataframe\">\n",
       "  <thead>\n",
       "    <tr style=\"text-align: right;\">\n",
       "      <th></th>\n",
       "      <th>GeoFips</th>\n",
       "      <th>GeoName</th>\n",
       "      <th>LineCode</th>\n",
       "      <th>Description</th>\n",
       "      <th>2016</th>\n",
       "      <th>2017</th>\n",
       "      <th>2018</th>\n",
       "      <th>2019</th>\n",
       "      <th>2020</th>\n",
       "    </tr>\n",
       "  </thead>\n",
       "  <tbody>\n",
       "    <tr>\n",
       "      <th>0</th>\n",
       "      <td>998</td>\n",
       "      <td>United States (Metropolitan Portion)</td>\n",
       "      <td>NaN</td>\n",
       "      <td>Employment by place of work</td>\n",
       "      <td>NaN</td>\n",
       "      <td>NaN</td>\n",
       "      <td>NaN</td>\n",
       "      <td>NaN</td>\n",
       "      <td>NaN</td>\n",
       "    </tr>\n",
       "    <tr>\n",
       "      <th>1</th>\n",
       "      <td>998</td>\n",
       "      <td>United States (Metropolitan Portion)</td>\n",
       "      <td>10.0</td>\n",
       "      <td>Total employment (number of jobs)</td>\n",
       "      <td>169970416</td>\n",
       "      <td>172906517</td>\n",
       "      <td>176616181</td>\n",
       "      <td>178045966</td>\n",
       "      <td>168252028</td>\n",
       "    </tr>\n",
       "    <tr>\n",
       "      <th>2</th>\n",
       "      <td>998</td>\n",
       "      <td>United States (Metropolitan Portion)</td>\n",
       "      <td>NaN</td>\n",
       "      <td>By type</td>\n",
       "      <td>NaN</td>\n",
       "      <td>NaN</td>\n",
       "      <td>NaN</td>\n",
       "      <td>NaN</td>\n",
       "      <td>NaN</td>\n",
       "    </tr>\n",
       "    <tr>\n",
       "      <th>3</th>\n",
       "      <td>998</td>\n",
       "      <td>United States (Metropolitan Portion)</td>\n",
       "      <td>20.0</td>\n",
       "      <td>Wage and salary employment</td>\n",
       "      <td>132630405</td>\n",
       "      <td>134570663</td>\n",
       "      <td>136851441</td>\n",
       "      <td>138926673</td>\n",
       "      <td>130532723</td>\n",
       "    </tr>\n",
       "    <tr>\n",
       "      <th>4</th>\n",
       "      <td>998</td>\n",
       "      <td>United States (Metropolitan Portion)</td>\n",
       "      <td>40.0</td>\n",
       "      <td>Proprietors employment</td>\n",
       "      <td>37340011</td>\n",
       "      <td>38335854</td>\n",
       "      <td>39764740</td>\n",
       "      <td>39119293</td>\n",
       "      <td>37719305</td>\n",
       "    </tr>\n",
       "  </tbody>\n",
       "</table>\n",
       "</div>"
      ],
      "text/plain": [
       "  GeoFips                               GeoName  LineCode  \\\n",
       "0     998  United States (Metropolitan Portion)       NaN   \n",
       "1     998  United States (Metropolitan Portion)      10.0   \n",
       "2     998  United States (Metropolitan Portion)       NaN   \n",
       "3     998  United States (Metropolitan Portion)      20.0   \n",
       "4     998  United States (Metropolitan Portion)      40.0   \n",
       "\n",
       "                         Description       2016       2017       2018  \\\n",
       "0        Employment by place of work        NaN        NaN        NaN   \n",
       "1  Total employment (number of jobs)  169970416  172906517  176616181   \n",
       "2                            By type        NaN        NaN        NaN   \n",
       "3         Wage and salary employment  132630405  134570663  136851441   \n",
       "4             Proprietors employment   37340011   38335854   39764740   \n",
       "\n",
       "        2019       2020  \n",
       "0        NaN        NaN  \n",
       "1  178045966  168252028  \n",
       "2        NaN        NaN  \n",
       "3  138926673  130532723  \n",
       "4   39119293   37719305  "
      ]
     },
     "execution_count": 3,
     "metadata": {},
     "output_type": "execute_result"
    }
   ],
   "source": [
    "#preview data\n",
    "\n",
    "df.head()"
   ]
  },
  {
   "cell_type": "code",
   "execution_count": 4,
   "id": "6bbc7abb",
   "metadata": {},
   "outputs": [
    {
     "data": {
      "text/plain": [
       "GeoFips         object\n",
       "GeoName         object\n",
       "LineCode       float64\n",
       "Description     object\n",
       "2016            object\n",
       "2017            object\n",
       "2018            object\n",
       "2019            object\n",
       "2020            object\n",
       "dtype: object"
      ]
     },
     "execution_count": 4,
     "metadata": {},
     "output_type": "execute_result"
    }
   ],
   "source": [
    "#check data types\n",
    "df.dtypes"
   ]
  },
  {
   "cell_type": "code",
   "execution_count": 5,
   "id": "d07d24bb",
   "metadata": {},
   "outputs": [
    {
     "data": {
      "text/plain": [
       "['GeoFips',\n",
       " 'GeoName',\n",
       " 'LineCode',\n",
       " 'Description',\n",
       " '2016',\n",
       " '2017',\n",
       " '2018',\n",
       " '2019',\n",
       " '2020']"
      ]
     },
     "execution_count": 5,
     "metadata": {},
     "output_type": "execute_result"
    }
   ],
   "source": [
    "#discover all columns in dataframe\n",
    "df.columns.to_list()"
   ]
  },
  {
   "cell_type": "code",
   "execution_count": 6,
   "id": "e402ce9f",
   "metadata": {},
   "outputs": [
    {
     "data": {
      "text/plain": [
       "4329"
      ]
     },
     "execution_count": 6,
     "metadata": {},
     "output_type": "execute_result"
    }
   ],
   "source": [
    "#count number of rows \n",
    "len(df. index)"
   ]
  },
  {
   "cell_type": "code",
   "execution_count": 7,
   "id": "371c844e",
   "metadata": {},
   "outputs": [
    {
     "data": {
      "text/plain": [
       "2233"
      ]
     },
     "execution_count": 7,
     "metadata": {},
     "output_type": "execute_result"
    }
   ],
   "source": [
    "#count number of null values in raw dataset\n",
    "df.isna().sum().sum()"
   ]
  },
  {
   "cell_type": "code",
   "execution_count": 8,
   "id": "c36ba351",
   "metadata": {},
   "outputs": [],
   "source": [
    "#drop null values \n",
    "new_df = df.dropna()"
   ]
  },
  {
   "cell_type": "code",
   "execution_count": 9,
   "id": "fc7898c9",
   "metadata": {},
   "outputs": [
    {
     "data": {
      "text/plain": [
       "3960"
      ]
     },
     "execution_count": 9,
     "metadata": {},
     "output_type": "execute_result"
    }
   ],
   "source": [
    "#checking number of rows after dropping null values\n",
    "len(new_df.index)"
   ]
  },
  {
   "cell_type": "code",
   "execution_count": 10,
   "id": "ee77824e",
   "metadata": {},
   "outputs": [],
   "source": [
    "#delete GeoFips\n",
    "\n",
    "del new_df['GeoFips']"
   ]
  },
  {
   "cell_type": "code",
   "execution_count": 11,
   "id": "7cbaeec7",
   "metadata": {},
   "outputs": [],
   "source": [
    "#drop lineode\n",
    "del new_df['LineCode']"
   ]
  },
  {
   "cell_type": "code",
   "execution_count": 12,
   "id": "046b8fd1",
   "metadata": {},
   "outputs": [
    {
     "data": {
      "text/html": [
       "<div>\n",
       "<style scoped>\n",
       "    .dataframe tbody tr th:only-of-type {\n",
       "        vertical-align: middle;\n",
       "    }\n",
       "\n",
       "    .dataframe tbody tr th {\n",
       "        vertical-align: top;\n",
       "    }\n",
       "\n",
       "    .dataframe thead th {\n",
       "        text-align: right;\n",
       "    }\n",
       "</style>\n",
       "<table border=\"1\" class=\"dataframe\">\n",
       "  <thead>\n",
       "    <tr style=\"text-align: right;\">\n",
       "      <th></th>\n",
       "      <th>GeoName</th>\n",
       "      <th>Description</th>\n",
       "      <th>2016</th>\n",
       "      <th>2017</th>\n",
       "      <th>2018</th>\n",
       "      <th>2019</th>\n",
       "      <th>2020</th>\n",
       "    </tr>\n",
       "  </thead>\n",
       "  <tbody>\n",
       "    <tr>\n",
       "      <th>1</th>\n",
       "      <td>United States (Metropolitan Portion)</td>\n",
       "      <td>Total employment (number of jobs)</td>\n",
       "      <td>169970416</td>\n",
       "      <td>172906517</td>\n",
       "      <td>176616181</td>\n",
       "      <td>178045966</td>\n",
       "      <td>168252028</td>\n",
       "    </tr>\n",
       "    <tr>\n",
       "      <th>3</th>\n",
       "      <td>United States (Metropolitan Portion)</td>\n",
       "      <td>Wage and salary employment</td>\n",
       "      <td>132630405</td>\n",
       "      <td>134570663</td>\n",
       "      <td>136851441</td>\n",
       "      <td>138926673</td>\n",
       "      <td>130532723</td>\n",
       "    </tr>\n",
       "    <tr>\n",
       "      <th>4</th>\n",
       "      <td>United States (Metropolitan Portion)</td>\n",
       "      <td>Proprietors employment</td>\n",
       "      <td>37340011</td>\n",
       "      <td>38335854</td>\n",
       "      <td>39764740</td>\n",
       "      <td>39119293</td>\n",
       "      <td>37719305</td>\n",
       "    </tr>\n",
       "    <tr>\n",
       "      <th>5</th>\n",
       "      <td>United States (Metropolitan Portion)</td>\n",
       "      <td>Farm proprietors employment</td>\n",
       "      <td>792909</td>\n",
       "      <td>784231</td>\n",
       "      <td>779376</td>\n",
       "      <td>777526</td>\n",
       "      <td>775462</td>\n",
       "    </tr>\n",
       "    <tr>\n",
       "      <th>6</th>\n",
       "      <td>United States (Metropolitan Portion)</td>\n",
       "      <td>Nonfarm proprietors employment 2/</td>\n",
       "      <td>36547102</td>\n",
       "      <td>37551623</td>\n",
       "      <td>38985364</td>\n",
       "      <td>38341767</td>\n",
       "      <td>36943843</td>\n",
       "    </tr>\n",
       "  </tbody>\n",
       "</table>\n",
       "</div>"
      ],
      "text/plain": [
       "                                GeoName  \\\n",
       "1  United States (Metropolitan Portion)   \n",
       "3  United States (Metropolitan Portion)   \n",
       "4  United States (Metropolitan Portion)   \n",
       "5  United States (Metropolitan Portion)   \n",
       "6  United States (Metropolitan Portion)   \n",
       "\n",
       "                             Description       2016       2017       2018  \\\n",
       "1      Total employment (number of jobs)  169970416  172906517  176616181   \n",
       "3             Wage and salary employment  132630405  134570663  136851441   \n",
       "4                 Proprietors employment   37340011   38335854   39764740   \n",
       "5            Farm proprietors employment     792909     784231     779376   \n",
       "6      Nonfarm proprietors employment 2/   36547102   37551623   38985364   \n",
       "\n",
       "        2019       2020  \n",
       "1  178045966  168252028  \n",
       "3  138926673  130532723  \n",
       "4   39119293   37719305  \n",
       "5     777526     775462  \n",
       "6   38341767   36943843  "
      ]
     },
     "execution_count": 12,
     "metadata": {},
     "output_type": "execute_result"
    }
   ],
   "source": [
    "new_df.head()"
   ]
  },
  {
   "cell_type": "code",
   "execution_count": 13,
   "id": "9d2b8f45",
   "metadata": {},
   "outputs": [
    {
     "name": "stderr",
     "output_type": "stream",
     "text": [
      "C:\\Users\\palum\\anaconda3\\envs\\GreatRes\\lib\\site-packages\\pandas\\core\\frame.py:4913: SettingWithCopyWarning: \n",
      "A value is trying to be set on a copy of a slice from a DataFrame\n",
      "\n",
      "See the caveats in the documentation: https://pandas.pydata.org/pandas-docs/stable/user_guide/indexing.html#returning-a-view-versus-a-copy\n",
      "  errors=errors,\n"
     ]
    }
   ],
   "source": [
    "#drop rows where year column has data with 'D' in it. making copy not to mess with new DF\n",
    "\n",
    "df2= new_df\n",
    "\n",
    "df2.drop(df2[df2['2016'] == '(D)'].index,inplace = True)\n",
    "df2.drop(df2[df2['2017'] == '(D)'].index,inplace = True)\n",
    "df2.drop(df2[df2['2018'] == '(D)'].index,inplace = True)\n",
    "df2.drop(df2[df2['2019'] == '(D)'].index,inplace = True)\n",
    "df2.drop(df2[df2['2020'] == '(D)'].index,inplace = True)"
   ]
  },
  {
   "cell_type": "code",
   "execution_count": 14,
   "id": "ab1d328e",
   "metadata": {},
   "outputs": [
    {
     "data": {
      "text/plain": [
       "3460"
      ]
     },
     "execution_count": 14,
     "metadata": {},
     "output_type": "execute_result"
    }
   ],
   "source": [
    "len(df2.index)"
   ]
  },
  {
   "cell_type": "code",
   "execution_count": 15,
   "id": "069806d0",
   "metadata": {},
   "outputs": [
    {
     "data": {
      "text/html": [
       "<div>\n",
       "<style scoped>\n",
       "    .dataframe tbody tr th:only-of-type {\n",
       "        vertical-align: middle;\n",
       "    }\n",
       "\n",
       "    .dataframe tbody tr th {\n",
       "        vertical-align: top;\n",
       "    }\n",
       "\n",
       "    .dataframe thead th {\n",
       "        text-align: right;\n",
       "    }\n",
       "</style>\n",
       "<table border=\"1\" class=\"dataframe\">\n",
       "  <thead>\n",
       "    <tr style=\"text-align: right;\">\n",
       "      <th></th>\n",
       "      <th>GeoName</th>\n",
       "      <th>Description</th>\n",
       "      <th>2016</th>\n",
       "      <th>2017</th>\n",
       "      <th>2018</th>\n",
       "      <th>2019</th>\n",
       "      <th>2020</th>\n",
       "    </tr>\n",
       "  </thead>\n",
       "  <tbody>\n",
       "    <tr>\n",
       "      <th>1</th>\n",
       "      <td>United States (Metropolitan Portion)</td>\n",
       "      <td>Total employment (number of jobs)</td>\n",
       "      <td>169970416</td>\n",
       "      <td>172906517</td>\n",
       "      <td>176616181</td>\n",
       "      <td>178045966</td>\n",
       "      <td>168252028</td>\n",
       "    </tr>\n",
       "    <tr>\n",
       "      <th>3</th>\n",
       "      <td>United States (Metropolitan Portion)</td>\n",
       "      <td>Wage and salary employment</td>\n",
       "      <td>132630405</td>\n",
       "      <td>134570663</td>\n",
       "      <td>136851441</td>\n",
       "      <td>138926673</td>\n",
       "      <td>130532723</td>\n",
       "    </tr>\n",
       "    <tr>\n",
       "      <th>4</th>\n",
       "      <td>United States (Metropolitan Portion)</td>\n",
       "      <td>Proprietors employment</td>\n",
       "      <td>37340011</td>\n",
       "      <td>38335854</td>\n",
       "      <td>39764740</td>\n",
       "      <td>39119293</td>\n",
       "      <td>37719305</td>\n",
       "    </tr>\n",
       "    <tr>\n",
       "      <th>5</th>\n",
       "      <td>United States (Metropolitan Portion)</td>\n",
       "      <td>Farm proprietors employment</td>\n",
       "      <td>792909</td>\n",
       "      <td>784231</td>\n",
       "      <td>779376</td>\n",
       "      <td>777526</td>\n",
       "      <td>775462</td>\n",
       "    </tr>\n",
       "    <tr>\n",
       "      <th>6</th>\n",
       "      <td>United States (Metropolitan Portion)</td>\n",
       "      <td>Nonfarm proprietors employment 2/</td>\n",
       "      <td>36547102</td>\n",
       "      <td>37551623</td>\n",
       "      <td>38985364</td>\n",
       "      <td>38341767</td>\n",
       "      <td>36943843</td>\n",
       "    </tr>\n",
       "  </tbody>\n",
       "</table>\n",
       "</div>"
      ],
      "text/plain": [
       "                                GeoName  \\\n",
       "1  United States (Metropolitan Portion)   \n",
       "3  United States (Metropolitan Portion)   \n",
       "4  United States (Metropolitan Portion)   \n",
       "5  United States (Metropolitan Portion)   \n",
       "6  United States (Metropolitan Portion)   \n",
       "\n",
       "                             Description       2016       2017       2018  \\\n",
       "1      Total employment (number of jobs)  169970416  172906517  176616181   \n",
       "3             Wage and salary employment  132630405  134570663  136851441   \n",
       "4                 Proprietors employment   37340011   38335854   39764740   \n",
       "5            Farm proprietors employment     792909     784231     779376   \n",
       "6      Nonfarm proprietors employment 2/   36547102   37551623   38985364   \n",
       "\n",
       "        2019       2020  \n",
       "1  178045966  168252028  \n",
       "3  138926673  130532723  \n",
       "4   39119293   37719305  \n",
       "5     777526     775462  \n",
       "6   38341767   36943843  "
      ]
     },
     "execution_count": 15,
     "metadata": {},
     "output_type": "execute_result"
    }
   ],
   "source": [
    "df2.head()"
   ]
  },
  {
   "cell_type": "code",
   "execution_count": 16,
   "id": "a54bbce3",
   "metadata": {},
   "outputs": [
    {
     "data": {
      "text/html": [
       "<div>\n",
       "<style scoped>\n",
       "    .dataframe tbody tr th:only-of-type {\n",
       "        vertical-align: middle;\n",
       "    }\n",
       "\n",
       "    .dataframe tbody tr th {\n",
       "        vertical-align: top;\n",
       "    }\n",
       "\n",
       "    .dataframe thead th {\n",
       "        text-align: right;\n",
       "    }\n",
       "</style>\n",
       "<table border=\"1\" class=\"dataframe\">\n",
       "  <thead>\n",
       "    <tr style=\"text-align: right;\">\n",
       "      <th></th>\n",
       "      <th>GeoName</th>\n",
       "      <th>Description</th>\n",
       "      <th>2016</th>\n",
       "      <th>2017</th>\n",
       "      <th>2018</th>\n",
       "      <th>2019</th>\n",
       "      <th>2020</th>\n",
       "    </tr>\n",
       "  </thead>\n",
       "  <tbody>\n",
       "    <tr>\n",
       "      <th>4314</th>\n",
       "      <td>Far West (Nonmetropolitan Portion) *</td>\n",
       "      <td>Government and government enterprises</td>\n",
       "      <td>292064</td>\n",
       "      <td>295132</td>\n",
       "      <td>295547</td>\n",
       "      <td>300541</td>\n",
       "      <td>287943</td>\n",
       "    </tr>\n",
       "    <tr>\n",
       "      <th>4315</th>\n",
       "      <td>Far West (Nonmetropolitan Portion) *</td>\n",
       "      <td>Federal civilian</td>\n",
       "      <td>26206</td>\n",
       "      <td>25946</td>\n",
       "      <td>25362</td>\n",
       "      <td>25451</td>\n",
       "      <td>26608</td>\n",
       "    </tr>\n",
       "    <tr>\n",
       "      <th>4316</th>\n",
       "      <td>Far West (Nonmetropolitan Portion) *</td>\n",
       "      <td>Military</td>\n",
       "      <td>22225</td>\n",
       "      <td>23324</td>\n",
       "      <td>21271</td>\n",
       "      <td>21907</td>\n",
       "      <td>21728</td>\n",
       "    </tr>\n",
       "    <tr>\n",
       "      <th>4317</th>\n",
       "      <td>Far West (Nonmetropolitan Portion) *</td>\n",
       "      <td>State and local</td>\n",
       "      <td>243633</td>\n",
       "      <td>245862</td>\n",
       "      <td>248914</td>\n",
       "      <td>253183</td>\n",
       "      <td>239607</td>\n",
       "    </tr>\n",
       "    <tr>\n",
       "      <th>4319</th>\n",
       "      <td>Far West (Nonmetropolitan Portion) *</td>\n",
       "      <td>Local government</td>\n",
       "      <td>180,134 E</td>\n",
       "      <td>181,891 E</td>\n",
       "      <td>184,070 E</td>\n",
       "      <td>184,103 E</td>\n",
       "      <td>170,533 E</td>\n",
       "    </tr>\n",
       "  </tbody>\n",
       "</table>\n",
       "</div>"
      ],
      "text/plain": [
       "                                   GeoName  \\\n",
       "4314  Far West (Nonmetropolitan Portion) *   \n",
       "4315  Far West (Nonmetropolitan Portion) *   \n",
       "4316  Far West (Nonmetropolitan Portion) *   \n",
       "4317  Far West (Nonmetropolitan Portion) *   \n",
       "4319  Far West (Nonmetropolitan Portion) *   \n",
       "\n",
       "                                    Description       2016       2017  \\\n",
       "4314      Government and government enterprises     292064     295132   \n",
       "4315                           Federal civilian      26206      25946   \n",
       "4316                                   Military      22225      23324   \n",
       "4317                            State and local     243633     245862   \n",
       "4319                           Local government  180,134 E  181,891 E   \n",
       "\n",
       "           2018       2019       2020  \n",
       "4314     295547     300541     287943  \n",
       "4315      25362      25451      26608  \n",
       "4316      21271      21907      21728  \n",
       "4317     248914     253183     239607  \n",
       "4319  184,070 E  184,103 E  170,533 E  "
      ]
     },
     "execution_count": 16,
     "metadata": {},
     "output_type": "execute_result"
    }
   ],
   "source": [
    "df2.tail()"
   ]
  },
  {
   "cell_type": "code",
   "execution_count": 17,
   "id": "6db23524",
   "metadata": {},
   "outputs": [
    {
     "data": {
      "text/plain": [
       "GeoName        object\n",
       "Description    object\n",
       "2016           object\n",
       "2017           object\n",
       "2018           object\n",
       "2019           object\n",
       "2020           object\n",
       "dtype: object"
      ]
     },
     "execution_count": 17,
     "metadata": {},
     "output_type": "execute_result"
    }
   ],
   "source": [
    "df2.dtypes"
   ]
  },
  {
   "cell_type": "code",
   "execution_count": 36,
   "id": "40cd8395",
   "metadata": {},
   "outputs": [
    {
     "name": "stderr",
     "output_type": "stream",
     "text": [
      "C:\\Users\\palum\\anaconda3\\envs\\GreatRes\\lib\\site-packages\\ipykernel_launcher.py:2: SettingWithCopyWarning: \n",
      "A value is trying to be set on a copy of a slice from a DataFrame.\n",
      "Try using .loc[row_indexer,col_indexer] = value instead\n",
      "\n",
      "See the caveats in the documentation: https://pandas.pydata.org/pandas-docs/stable/user_guide/indexing.html#returning-a-view-versus-a-copy\n",
      "  \n",
      "C:\\Users\\palum\\anaconda3\\envs\\GreatRes\\lib\\site-packages\\ipykernel_launcher.py:3: SettingWithCopyWarning: \n",
      "A value is trying to be set on a copy of a slice from a DataFrame.\n",
      "Try using .loc[row_indexer,col_indexer] = value instead\n",
      "\n",
      "See the caveats in the documentation: https://pandas.pydata.org/pandas-docs/stable/user_guide/indexing.html#returning-a-view-versus-a-copy\n",
      "  This is separate from the ipykernel package so we can avoid doing imports until\n",
      "C:\\Users\\palum\\anaconda3\\envs\\GreatRes\\lib\\site-packages\\ipykernel_launcher.py:4: SettingWithCopyWarning: \n",
      "A value is trying to be set on a copy of a slice from a DataFrame.\n",
      "Try using .loc[row_indexer,col_indexer] = value instead\n",
      "\n",
      "See the caveats in the documentation: https://pandas.pydata.org/pandas-docs/stable/user_guide/indexing.html#returning-a-view-versus-a-copy\n",
      "  after removing the cwd from sys.path.\n",
      "C:\\Users\\palum\\anaconda3\\envs\\GreatRes\\lib\\site-packages\\ipykernel_launcher.py:5: SettingWithCopyWarning: \n",
      "A value is trying to be set on a copy of a slice from a DataFrame.\n",
      "Try using .loc[row_indexer,col_indexer] = value instead\n",
      "\n",
      "See the caveats in the documentation: https://pandas.pydata.org/pandas-docs/stable/user_guide/indexing.html#returning-a-view-versus-a-copy\n",
      "  \"\"\"\n",
      "C:\\Users\\palum\\anaconda3\\envs\\GreatRes\\lib\\site-packages\\ipykernel_launcher.py:6: SettingWithCopyWarning: \n",
      "A value is trying to be set on a copy of a slice from a DataFrame.\n",
      "Try using .loc[row_indexer,col_indexer] = value instead\n",
      "\n",
      "See the caveats in the documentation: https://pandas.pydata.org/pandas-docs/stable/user_guide/indexing.html#returning-a-view-versus-a-copy\n",
      "  \n"
     ]
    }
   ],
   "source": [
    "#removing all \"E\"s from columns and replacing them in data frome \n",
    "df2['2016'] = df2['2016'].str.replace('E','')\n",
    "df2['2017'] = df2['2017'].str.replace('E','')\n",
    "df2['2018'] = df2['2018'].str.replace('E','')\n",
    "df2['2019'] = df2['2019'].str.replace('E','')\n",
    "df2['2020'] = df2['2020'].str.replace('E','')"
   ]
  },
  {
   "cell_type": "code",
   "execution_count": 37,
   "id": "b701bd1f",
   "metadata": {},
   "outputs": [
    {
     "data": {
      "text/html": [
       "<div>\n",
       "<style scoped>\n",
       "    .dataframe tbody tr th:only-of-type {\n",
       "        vertical-align: middle;\n",
       "    }\n",
       "\n",
       "    .dataframe tbody tr th {\n",
       "        vertical-align: top;\n",
       "    }\n",
       "\n",
       "    .dataframe thead th {\n",
       "        text-align: right;\n",
       "    }\n",
       "</style>\n",
       "<table border=\"1\" class=\"dataframe\">\n",
       "  <thead>\n",
       "    <tr style=\"text-align: right;\">\n",
       "      <th></th>\n",
       "      <th>GeoName</th>\n",
       "      <th>Description</th>\n",
       "      <th>2016</th>\n",
       "      <th>2017</th>\n",
       "      <th>2018</th>\n",
       "      <th>2019</th>\n",
       "      <th>2020</th>\n",
       "    </tr>\n",
       "  </thead>\n",
       "  <tbody>\n",
       "    <tr>\n",
       "      <th>4314</th>\n",
       "      <td>Far West (Nonmetropolitan Portion) *</td>\n",
       "      <td>Government and government enterprises</td>\n",
       "      <td>292064</td>\n",
       "      <td>295132</td>\n",
       "      <td>295547</td>\n",
       "      <td>300541</td>\n",
       "      <td>287943</td>\n",
       "    </tr>\n",
       "    <tr>\n",
       "      <th>4315</th>\n",
       "      <td>Far West (Nonmetropolitan Portion) *</td>\n",
       "      <td>Federal civilian</td>\n",
       "      <td>26206</td>\n",
       "      <td>25946</td>\n",
       "      <td>25362</td>\n",
       "      <td>25451</td>\n",
       "      <td>26608</td>\n",
       "    </tr>\n",
       "    <tr>\n",
       "      <th>4316</th>\n",
       "      <td>Far West (Nonmetropolitan Portion) *</td>\n",
       "      <td>Military</td>\n",
       "      <td>22225</td>\n",
       "      <td>23324</td>\n",
       "      <td>21271</td>\n",
       "      <td>21907</td>\n",
       "      <td>21728</td>\n",
       "    </tr>\n",
       "    <tr>\n",
       "      <th>4317</th>\n",
       "      <td>Far West (Nonmetropolitan Portion) *</td>\n",
       "      <td>State and local</td>\n",
       "      <td>243633</td>\n",
       "      <td>245862</td>\n",
       "      <td>248914</td>\n",
       "      <td>253183</td>\n",
       "      <td>239607</td>\n",
       "    </tr>\n",
       "    <tr>\n",
       "      <th>4319</th>\n",
       "      <td>Far West (Nonmetropolitan Portion) *</td>\n",
       "      <td>Local government</td>\n",
       "      <td>180,134</td>\n",
       "      <td>181,891</td>\n",
       "      <td>184,070</td>\n",
       "      <td>184,103</td>\n",
       "      <td>170,533</td>\n",
       "    </tr>\n",
       "  </tbody>\n",
       "</table>\n",
       "</div>"
      ],
      "text/plain": [
       "                                   GeoName  \\\n",
       "4314  Far West (Nonmetropolitan Portion) *   \n",
       "4315  Far West (Nonmetropolitan Portion) *   \n",
       "4316  Far West (Nonmetropolitan Portion) *   \n",
       "4317  Far West (Nonmetropolitan Portion) *   \n",
       "4319  Far West (Nonmetropolitan Portion) *   \n",
       "\n",
       "                                    Description      2016      2017      2018  \\\n",
       "4314      Government and government enterprises    292064    295132    295547   \n",
       "4315                           Federal civilian     26206     25946     25362   \n",
       "4316                                   Military     22225     23324     21271   \n",
       "4317                            State and local    243633    245862    248914   \n",
       "4319                           Local government  180,134   181,891   184,070    \n",
       "\n",
       "          2019      2020  \n",
       "4314    300541    287943  \n",
       "4315     25451     26608  \n",
       "4316     21907     21728  \n",
       "4317    253183    239607  \n",
       "4319  184,103   170,533   "
      ]
     },
     "execution_count": 37,
     "metadata": {},
     "output_type": "execute_result"
    }
   ],
   "source": [
    "df2.tail()"
   ]
  },
  {
   "cell_type": "code",
   "execution_count": 38,
   "id": "9dccc498",
   "metadata": {},
   "outputs": [
    {
     "data": {
      "text/plain": [
       "GeoName        object\n",
       "Description    object\n",
       "2016           object\n",
       "2017           object\n",
       "2018           object\n",
       "2019           object\n",
       "2020           object\n",
       "dtype: object"
      ]
     },
     "execution_count": 38,
     "metadata": {},
     "output_type": "execute_result"
    }
   ],
   "source": [
    "df2.dtypes"
   ]
  },
  {
   "cell_type": "code",
   "execution_count": 42,
   "id": "7abbbefa",
   "metadata": {},
   "outputs": [
    {
     "name": "stderr",
     "output_type": "stream",
     "text": [
      "C:\\Users\\palum\\anaconda3\\envs\\GreatRes\\lib\\site-packages\\pandas\\core\\frame.py:4913: SettingWithCopyWarning: \n",
      "A value is trying to be set on a copy of a slice from a DataFrame\n",
      "\n",
      "See the caveats in the documentation: https://pandas.pydata.org/pandas-docs/stable/user_guide/indexing.html#returning-a-view-versus-a-copy\n",
      "  errors=errors,\n"
     ]
    }
   ],
   "source": [
    "#dropping all rows with all 0 values\n",
    "\n",
    "df2.drop(df2[df2['2016'] == '0'].index,inplace = True)\n",
    "df2.drop(df2[df2['2017'] == '0'].index,inplace = True)\n",
    "df2.drop(df2[df2['2018'] == '0'].index,inplace = True)\n",
    "df2.drop(df2[df2['2019'] == '0'].index,inplace = True)\n",
    "df2.drop(df2[df2['2020'] == '0'].index,inplace = True)"
   ]
  },
  {
   "cell_type": "code",
   "execution_count": 43,
   "id": "8dead28a",
   "metadata": {},
   "outputs": [
    {
     "data": {
      "text/plain": [
       "3325"
      ]
     },
     "execution_count": 43,
     "metadata": {},
     "output_type": "execute_result"
    }
   ],
   "source": [
    "len(df2.index)"
   ]
  },
  {
   "cell_type": "code",
   "execution_count": 49,
   "id": "be1ddab2",
   "metadata": {},
   "outputs": [
    {
     "name": "stderr",
     "output_type": "stream",
     "text": [
      "C:\\Users\\palum\\anaconda3\\envs\\GreatRes\\lib\\site-packages\\ipykernel_launcher.py:3: SettingWithCopyWarning: \n",
      "A value is trying to be set on a copy of a slice from a DataFrame.\n",
      "Try using .loc[row_indexer,col_indexer] = value instead\n",
      "\n",
      "See the caveats in the documentation: https://pandas.pydata.org/pandas-docs/stable/user_guide/indexing.html#returning-a-view-versus-a-copy\n",
      "  This is separate from the ipykernel package so we can avoid doing imports until\n",
      "C:\\Users\\palum\\anaconda3\\envs\\GreatRes\\lib\\site-packages\\ipykernel_launcher.py:4: SettingWithCopyWarning: \n",
      "A value is trying to be set on a copy of a slice from a DataFrame.\n",
      "Try using .loc[row_indexer,col_indexer] = value instead\n",
      "\n",
      "See the caveats in the documentation: https://pandas.pydata.org/pandas-docs/stable/user_guide/indexing.html#returning-a-view-versus-a-copy\n",
      "  after removing the cwd from sys.path.\n",
      "C:\\Users\\palum\\anaconda3\\envs\\GreatRes\\lib\\site-packages\\ipykernel_launcher.py:5: SettingWithCopyWarning: \n",
      "A value is trying to be set on a copy of a slice from a DataFrame.\n",
      "Try using .loc[row_indexer,col_indexer] = value instead\n",
      "\n",
      "See the caveats in the documentation: https://pandas.pydata.org/pandas-docs/stable/user_guide/indexing.html#returning-a-view-versus-a-copy\n",
      "  \"\"\"\n",
      "C:\\Users\\palum\\anaconda3\\envs\\GreatRes\\lib\\site-packages\\ipykernel_launcher.py:6: SettingWithCopyWarning: \n",
      "A value is trying to be set on a copy of a slice from a DataFrame.\n",
      "Try using .loc[row_indexer,col_indexer] = value instead\n",
      "\n",
      "See the caveats in the documentation: https://pandas.pydata.org/pandas-docs/stable/user_guide/indexing.html#returning-a-view-versus-a-copy\n",
      "  \n",
      "C:\\Users\\palum\\anaconda3\\envs\\GreatRes\\lib\\site-packages\\ipykernel_launcher.py:7: SettingWithCopyWarning: \n",
      "A value is trying to be set on a copy of a slice from a DataFrame.\n",
      "Try using .loc[row_indexer,col_indexer] = value instead\n",
      "\n",
      "See the caveats in the documentation: https://pandas.pydata.org/pandas-docs/stable/user_guide/indexing.html#returning-a-view-versus-a-copy\n",
      "  import sys\n"
     ]
    }
   ],
   "source": [
    "#removing commas from all rows \n",
    "\n",
    "df2['2016'] = df2['2016'].str.replace(',','')\n",
    "df2['2017'] = df2['2017'].str.replace(',','')\n",
    "df2['2018'] = df2['2018'].str.replace(',','')\n",
    "df2['2019'] = df2['2019'].str.replace(',','')\n",
    "df2['2020'] = df2['2020'].str.replace(',','')"
   ]
  },
  {
   "cell_type": "code",
   "execution_count": 50,
   "id": "e2949ee2",
   "metadata": {},
   "outputs": [
    {
     "data": {
      "text/html": [
       "<div>\n",
       "<style scoped>\n",
       "    .dataframe tbody tr th:only-of-type {\n",
       "        vertical-align: middle;\n",
       "    }\n",
       "\n",
       "    .dataframe tbody tr th {\n",
       "        vertical-align: top;\n",
       "    }\n",
       "\n",
       "    .dataframe thead th {\n",
       "        text-align: right;\n",
       "    }\n",
       "</style>\n",
       "<table border=\"1\" class=\"dataframe\">\n",
       "  <thead>\n",
       "    <tr style=\"text-align: right;\">\n",
       "      <th></th>\n",
       "      <th>GeoName</th>\n",
       "      <th>Description</th>\n",
       "      <th>2016</th>\n",
       "      <th>2017</th>\n",
       "      <th>2018</th>\n",
       "      <th>2019</th>\n",
       "      <th>2020</th>\n",
       "    </tr>\n",
       "  </thead>\n",
       "  <tbody>\n",
       "    <tr>\n",
       "      <th>1</th>\n",
       "      <td>United States (Metropolitan Portion)</td>\n",
       "      <td>Total employment (number of jobs)</td>\n",
       "      <td>169970416</td>\n",
       "      <td>172906517</td>\n",
       "      <td>176616181</td>\n",
       "      <td>178045966</td>\n",
       "      <td>168252028</td>\n",
       "    </tr>\n",
       "    <tr>\n",
       "      <th>3</th>\n",
       "      <td>United States (Metropolitan Portion)</td>\n",
       "      <td>Wage and salary employment</td>\n",
       "      <td>132630405</td>\n",
       "      <td>134570663</td>\n",
       "      <td>136851441</td>\n",
       "      <td>138926673</td>\n",
       "      <td>130532723</td>\n",
       "    </tr>\n",
       "    <tr>\n",
       "      <th>4</th>\n",
       "      <td>United States (Metropolitan Portion)</td>\n",
       "      <td>Proprietors employment</td>\n",
       "      <td>37340011</td>\n",
       "      <td>38335854</td>\n",
       "      <td>39764740</td>\n",
       "      <td>39119293</td>\n",
       "      <td>37719305</td>\n",
       "    </tr>\n",
       "    <tr>\n",
       "      <th>5</th>\n",
       "      <td>United States (Metropolitan Portion)</td>\n",
       "      <td>Farm proprietors employment</td>\n",
       "      <td>792909</td>\n",
       "      <td>784231</td>\n",
       "      <td>779376</td>\n",
       "      <td>777526</td>\n",
       "      <td>775462</td>\n",
       "    </tr>\n",
       "    <tr>\n",
       "      <th>6</th>\n",
       "      <td>United States (Metropolitan Portion)</td>\n",
       "      <td>Nonfarm proprietors employment 2/</td>\n",
       "      <td>36547102</td>\n",
       "      <td>37551623</td>\n",
       "      <td>38985364</td>\n",
       "      <td>38341767</td>\n",
       "      <td>36943843</td>\n",
       "    </tr>\n",
       "  </tbody>\n",
       "</table>\n",
       "</div>"
      ],
      "text/plain": [
       "                                GeoName  \\\n",
       "1  United States (Metropolitan Portion)   \n",
       "3  United States (Metropolitan Portion)   \n",
       "4  United States (Metropolitan Portion)   \n",
       "5  United States (Metropolitan Portion)   \n",
       "6  United States (Metropolitan Portion)   \n",
       "\n",
       "                             Description       2016       2017       2018  \\\n",
       "1      Total employment (number of jobs)  169970416  172906517  176616181   \n",
       "3             Wage and salary employment  132630405  134570663  136851441   \n",
       "4                 Proprietors employment   37340011   38335854   39764740   \n",
       "5            Farm proprietors employment     792909     784231     779376   \n",
       "6      Nonfarm proprietors employment 2/   36547102   37551623   38985364   \n",
       "\n",
       "        2019       2020  \n",
       "1  178045966  168252028  \n",
       "3  138926673  130532723  \n",
       "4   39119293   37719305  \n",
       "5     777526     775462  \n",
       "6   38341767   36943843  "
      ]
     },
     "execution_count": 50,
     "metadata": {},
     "output_type": "execute_result"
    }
   ],
   "source": [
    "df2.head()"
   ]
  },
  {
   "cell_type": "code",
   "execution_count": 51,
   "id": "acd50dfd",
   "metadata": {},
   "outputs": [
    {
     "data": {
      "text/html": [
       "<div>\n",
       "<style scoped>\n",
       "    .dataframe tbody tr th:only-of-type {\n",
       "        vertical-align: middle;\n",
       "    }\n",
       "\n",
       "    .dataframe tbody tr th {\n",
       "        vertical-align: top;\n",
       "    }\n",
       "\n",
       "    .dataframe thead th {\n",
       "        text-align: right;\n",
       "    }\n",
       "</style>\n",
       "<table border=\"1\" class=\"dataframe\">\n",
       "  <thead>\n",
       "    <tr style=\"text-align: right;\">\n",
       "      <th></th>\n",
       "      <th>GeoName</th>\n",
       "      <th>Description</th>\n",
       "      <th>2016</th>\n",
       "      <th>2017</th>\n",
       "      <th>2018</th>\n",
       "      <th>2019</th>\n",
       "      <th>2020</th>\n",
       "    </tr>\n",
       "  </thead>\n",
       "  <tbody>\n",
       "    <tr>\n",
       "      <th>4314</th>\n",
       "      <td>Far West (Nonmetropolitan Portion) *</td>\n",
       "      <td>Government and government enterprises</td>\n",
       "      <td>292064</td>\n",
       "      <td>295132</td>\n",
       "      <td>295547</td>\n",
       "      <td>300541</td>\n",
       "      <td>287943</td>\n",
       "    </tr>\n",
       "    <tr>\n",
       "      <th>4315</th>\n",
       "      <td>Far West (Nonmetropolitan Portion) *</td>\n",
       "      <td>Federal civilian</td>\n",
       "      <td>26206</td>\n",
       "      <td>25946</td>\n",
       "      <td>25362</td>\n",
       "      <td>25451</td>\n",
       "      <td>26608</td>\n",
       "    </tr>\n",
       "    <tr>\n",
       "      <th>4316</th>\n",
       "      <td>Far West (Nonmetropolitan Portion) *</td>\n",
       "      <td>Military</td>\n",
       "      <td>22225</td>\n",
       "      <td>23324</td>\n",
       "      <td>21271</td>\n",
       "      <td>21907</td>\n",
       "      <td>21728</td>\n",
       "    </tr>\n",
       "    <tr>\n",
       "      <th>4317</th>\n",
       "      <td>Far West (Nonmetropolitan Portion) *</td>\n",
       "      <td>State and local</td>\n",
       "      <td>243633</td>\n",
       "      <td>245862</td>\n",
       "      <td>248914</td>\n",
       "      <td>253183</td>\n",
       "      <td>239607</td>\n",
       "    </tr>\n",
       "    <tr>\n",
       "      <th>4319</th>\n",
       "      <td>Far West (Nonmetropolitan Portion) *</td>\n",
       "      <td>Local government</td>\n",
       "      <td>180134</td>\n",
       "      <td>181891</td>\n",
       "      <td>184070</td>\n",
       "      <td>184103</td>\n",
       "      <td>170533</td>\n",
       "    </tr>\n",
       "  </tbody>\n",
       "</table>\n",
       "</div>"
      ],
      "text/plain": [
       "                                   GeoName  \\\n",
       "4314  Far West (Nonmetropolitan Portion) *   \n",
       "4315  Far West (Nonmetropolitan Portion) *   \n",
       "4316  Far West (Nonmetropolitan Portion) *   \n",
       "4317  Far West (Nonmetropolitan Portion) *   \n",
       "4319  Far West (Nonmetropolitan Portion) *   \n",
       "\n",
       "                                    Description     2016     2017     2018  \\\n",
       "4314      Government and government enterprises   292064   295132   295547   \n",
       "4315                           Federal civilian    26206    25946    25362   \n",
       "4316                                   Military    22225    23324    21271   \n",
       "4317                            State and local   243633   245862   248914   \n",
       "4319                           Local government  180134   181891   184070    \n",
       "\n",
       "         2019     2020  \n",
       "4314   300541   287943  \n",
       "4315    25451    26608  \n",
       "4316    21907    21728  \n",
       "4317   253183   239607  \n",
       "4319  184103   170533   "
      ]
     },
     "execution_count": 51,
     "metadata": {},
     "output_type": "execute_result"
    }
   ],
   "source": [
    "df2.tail()"
   ]
  },
  {
   "cell_type": "markdown",
   "id": "6ce338bd",
   "metadata": {},
   "source": []
  },
  {
   "cell_type": "code",
   "execution_count": 54,
   "id": "db6afdb7",
   "metadata": {},
   "outputs": [
    {
     "name": "stderr",
     "output_type": "stream",
     "text": [
      "C:\\Users\\palum\\anaconda3\\envs\\GreatRes\\lib\\site-packages\\pandas\\core\\frame.py:3641: SettingWithCopyWarning: \n",
      "A value is trying to be set on a copy of a slice from a DataFrame.\n",
      "Try using .loc[row_indexer,col_indexer] = value instead\n",
      "\n",
      "See the caveats in the documentation: https://pandas.pydata.org/pandas-docs/stable/user_guide/indexing.html#returning-a-view-versus-a-copy\n",
      "  self[k1] = value[k2]\n"
     ]
    }
   ],
   "source": [
    "# converting multiple columns to INT for later use \n",
    "\n",
    "df2[['2016','2017','2018','2019','2020']] =df2[['2016','2017','2018','2019','2020']].astype(str).astype(int)"
   ]
  },
  {
   "cell_type": "code",
   "execution_count": 55,
   "id": "fe64ec74",
   "metadata": {},
   "outputs": [
    {
     "data": {
      "text/plain": [
       "GeoName        object\n",
       "Description    object\n",
       "2016            int32\n",
       "2017            int32\n",
       "2018            int32\n",
       "2019            int32\n",
       "2020            int32\n",
       "dtype: object"
      ]
     },
     "execution_count": 55,
     "metadata": {},
     "output_type": "execute_result"
    }
   ],
   "source": [
    "#verifying data types\n",
    "\n",
    "df2.dtypes"
   ]
  },
  {
   "cell_type": "code",
   "execution_count": 57,
   "id": "1b42b2b2",
   "metadata": {},
   "outputs": [
    {
     "data": {
      "text/html": [
       "<div>\n",
       "<style scoped>\n",
       "    .dataframe tbody tr th:only-of-type {\n",
       "        vertical-align: middle;\n",
       "    }\n",
       "\n",
       "    .dataframe tbody tr th {\n",
       "        vertical-align: top;\n",
       "    }\n",
       "\n",
       "    .dataframe thead th {\n",
       "        text-align: right;\n",
       "    }\n",
       "</style>\n",
       "<table border=\"1\" class=\"dataframe\">\n",
       "  <thead>\n",
       "    <tr style=\"text-align: right;\">\n",
       "      <th></th>\n",
       "      <th>GeoName</th>\n",
       "      <th>Description</th>\n",
       "      <th>2016</th>\n",
       "      <th>2017</th>\n",
       "      <th>2018</th>\n",
       "      <th>2019</th>\n",
       "      <th>2020</th>\n",
       "    </tr>\n",
       "  </thead>\n",
       "  <tbody>\n",
       "    <tr>\n",
       "      <th>1</th>\n",
       "      <td>United States (Metropolitan Portion)</td>\n",
       "      <td>Total employment (number of jobs)</td>\n",
       "      <td>169970416</td>\n",
       "      <td>172906517</td>\n",
       "      <td>176616181</td>\n",
       "      <td>178045966</td>\n",
       "      <td>168252028</td>\n",
       "    </tr>\n",
       "    <tr>\n",
       "      <th>3</th>\n",
       "      <td>United States (Metropolitan Portion)</td>\n",
       "      <td>Wage and salary employment</td>\n",
       "      <td>132630405</td>\n",
       "      <td>134570663</td>\n",
       "      <td>136851441</td>\n",
       "      <td>138926673</td>\n",
       "      <td>130532723</td>\n",
       "    </tr>\n",
       "    <tr>\n",
       "      <th>4</th>\n",
       "      <td>United States (Metropolitan Portion)</td>\n",
       "      <td>Proprietors employment</td>\n",
       "      <td>37340011</td>\n",
       "      <td>38335854</td>\n",
       "      <td>39764740</td>\n",
       "      <td>39119293</td>\n",
       "      <td>37719305</td>\n",
       "    </tr>\n",
       "    <tr>\n",
       "      <th>5</th>\n",
       "      <td>United States (Metropolitan Portion)</td>\n",
       "      <td>Farm proprietors employment</td>\n",
       "      <td>792909</td>\n",
       "      <td>784231</td>\n",
       "      <td>779376</td>\n",
       "      <td>777526</td>\n",
       "      <td>775462</td>\n",
       "    </tr>\n",
       "    <tr>\n",
       "      <th>6</th>\n",
       "      <td>United States (Metropolitan Portion)</td>\n",
       "      <td>Nonfarm proprietors employment 2/</td>\n",
       "      <td>36547102</td>\n",
       "      <td>37551623</td>\n",
       "      <td>38985364</td>\n",
       "      <td>38341767</td>\n",
       "      <td>36943843</td>\n",
       "    </tr>\n",
       "  </tbody>\n",
       "</table>\n",
       "</div>"
      ],
      "text/plain": [
       "                                GeoName  \\\n",
       "1  United States (Metropolitan Portion)   \n",
       "3  United States (Metropolitan Portion)   \n",
       "4  United States (Metropolitan Portion)   \n",
       "5  United States (Metropolitan Portion)   \n",
       "6  United States (Metropolitan Portion)   \n",
       "\n",
       "                             Description       2016       2017       2018  \\\n",
       "1      Total employment (number of jobs)  169970416  172906517  176616181   \n",
       "3             Wage and salary employment  132630405  134570663  136851441   \n",
       "4                 Proprietors employment   37340011   38335854   39764740   \n",
       "5            Farm proprietors employment     792909     784231     779376   \n",
       "6      Nonfarm proprietors employment 2/   36547102   37551623   38985364   \n",
       "\n",
       "        2019       2020  \n",
       "1  178045966  168252028  \n",
       "3  138926673  130532723  \n",
       "4   39119293   37719305  \n",
       "5     777526     775462  \n",
       "6   38341767   36943843  "
      ]
     },
     "execution_count": 57,
     "metadata": {},
     "output_type": "execute_result"
    }
   ],
   "source": [
    "df2.head()"
   ]
  },
  {
   "cell_type": "code",
   "execution_count": 58,
   "id": "3bdc5cb0",
   "metadata": {},
   "outputs": [
    {
     "data": {
      "text/plain": [
       "3325"
      ]
     },
     "execution_count": 58,
     "metadata": {},
     "output_type": "execute_result"
    }
   ],
   "source": [
    "len(df2)"
   ]
  },
  {
   "cell_type": "code",
   "execution_count": 59,
   "id": "aeb6aad9",
   "metadata": {},
   "outputs": [],
   "source": [
    "#exporting cleaned data into new csv file\n",
    "\n",
    "df2.to_csv('cleaned_geographic_data.csv')"
   ]
  },
  {
   "cell_type": "code",
   "execution_count": null,
   "id": "6f10bdd5",
   "metadata": {},
   "outputs": [],
   "source": []
  }
 ],
 "metadata": {
  "kernelspec": {
   "display_name": "GreatRes",
   "language": "python",
   "name": "greatres"
  },
  "language_info": {
   "codemirror_mode": {
    "name": "ipython",
    "version": 3
   },
   "file_extension": ".py",
   "mimetype": "text/x-python",
   "name": "python",
   "nbconvert_exporter": "python",
   "pygments_lexer": "ipython3",
   "version": "3.7.13"
  }
 },
 "nbformat": 4,
 "nbformat_minor": 5
}
